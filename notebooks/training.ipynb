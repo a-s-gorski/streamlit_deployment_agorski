{
 "cells": [
  {
   "cell_type": "code",
   "execution_count": 36,
   "metadata": {
    "collapsed": false,
    "ExecuteTime": {
     "end_time": "2023-08-07T09:42:56.819374643Z",
     "start_time": "2023-08-07T09:42:56.776738334Z"
    }
   },
   "outputs": [],
   "source": [
    "import spacy\n",
    "from typing import List, Tuple, Optional\n",
    "\n",
    "import torch\n",
    "from nltk import TweetTokenizer\n",
    "from morfeusz2 import Morfeusz\n",
    "from tqdm.notebook import tqdm\n",
    "from transformers import AutoTokenizer, AutoModelForSequenceClassification, Trainer, TrainingArguments, TrainerCallback, pipeline\n",
    "from sklearn.model_selection import train_test_split\n",
    "import concurrent\n",
    "from datasets import Dataset\n",
    "from datasets.dataset_dict import DatasetDict\n",
    "import numpy as np\n",
    "from torch.nn.utils import prune\n",
    "import copy\n",
    "import  mlflow\n",
    "import dagshub\n",
    "import transformers\n",
    "from transformers.onnx import FeaturesManager\n",
    "from pathlib import Path\n",
    "\n",
    "train_path = \"../data/train/training_\"\n",
    "test_path = \"../data/test/test_\""
   ]
  },
  {
   "cell_type": "markdown",
   "metadata": {},
   "source": [
    "# Feature engineering"
   ]
  },
  {
   "cell_type": "code",
   "execution_count": 2,
   "metadata": {
    "ExecuteTime": {
     "end_time": "2023-08-07T09:28:05.629447035Z",
     "start_time": "2023-08-07T09:28:05.625261724Z"
    }
   },
   "outputs": [],
   "source": [
    "def load_data(path: str) -> Tuple[List[str], List[int]]:\n",
    "    with open(f\"{path}set_clean_only_text.txt\", 'r') as file:\n",
    "        lines = list(map(lambda line: line.rstrip(\"\\n\"), file.readlines()))\n",
    "\n",
    "    with open(f\"{path}set_clean_only_tags.txt\", 'r') as file:\n",
    "        classes = list(map(lambda line: int(line.rstrip(\"\\n\")), file.readlines()))\n",
    "    return lines, classes"
   ]
  },
  {
   "cell_type": "code",
   "execution_count": 3,
   "metadata": {
    "ExecuteTime": {
     "end_time": "2023-08-07T09:28:06.166109937Z",
     "start_time": "2023-08-07T09:28:06.145127001Z"
    }
   },
   "outputs": [],
   "source": [
    "train_lines, train_classes = load_data(train_path)\n",
    "test_lines, test_classes = load_data(test_path)"
   ]
  },
  {
   "cell_type": "markdown",
   "metadata": {},
   "source": [
    "## Downsample non-hatespeech lines"
   ]
  },
  {
   "cell_type": "code",
   "execution_count": 4,
   "metadata": {
    "ExecuteTime": {
     "end_time": "2023-08-07T09:28:07.106035895Z",
     "start_time": "2023-08-07T09:28:07.086999107Z"
    }
   },
   "outputs": [],
   "source": [
    "non_classes = np.random.choice(np.where(np.array(train_classes) == 0)[0], size=2000, replace=False)\n",
    "hatespeech_classes = np.where(np.array(train_classes) == 1)[0]\n",
    "\n",
    "subsample_idx = np.append(non_classes, hatespeech_classes)\n",
    "\n",
    "train_lines = np.array(train_lines)[subsample_idx].tolist()\n",
    "train_classes = np.array(train_classes)[subsample_idx]"
   ]
  },
  {
   "cell_type": "code",
   "execution_count": 5,
   "metadata": {
    "ExecuteTime": {
     "end_time": "2023-08-07T09:28:08.466211622Z",
     "start_time": "2023-08-07T09:28:07.679279482Z"
    }
   },
   "outputs": [],
   "source": [
    "morfeusz = Morfeusz()\n",
    "tw = TweetTokenizer()\n",
    "processor = spacy.load('pl_core_news_sm')\n",
    "\n",
    "def process_token(token) -> Optional[str]:\n",
    "    if token.ent_type:\n",
    "        return token.ent_type_\n",
    "    if not token.is_space and not token.is_punct:\n",
    "        analysis = morfeusz.analyse(token.text)\n",
    "        lemma = analysis[0][2][1].split(\":\")[0]\n",
    "        return lemma\n",
    "    else:\n",
    "        return None\n",
    "\n",
    "def process_line(line: List[str]):\n",
    "    return list(map(process_token, line))\n",
    "\n",
    "def process_lines(lines: List[str]):\n",
    "    lines_tw = list(map(tw.tokenize, lines))\n",
    "    lines_tw = list(map(\" \".join, lines_tw))\n",
    "    with concurrent.futures.ThreadPoolExecutor(max_workers=4) as executor: \n",
    "        lines_tokenized = list(tqdm(executor.map(processor, lines_tw), total=len(lines_tw)))\n",
    "    lines_tokenized_processed = list(map(process_line, lines_tokenized))\n",
    "    lines_tokenized_processed = [[item for item in inner_list if item is not None and item != '@'] for inner_list in lines_tokenized_processed]\n",
    "    lines_tokenized_processed = list(map(\" \".join , lines_tokenized_processed))\n",
    "    return lines_tokenized_processed\n"
   ]
  },
  {
   "cell_type": "code",
   "execution_count": 6,
   "metadata": {
    "ExecuteTime": {
     "end_time": "2023-08-07T09:28:28.734278537Z",
     "start_time": "2023-08-07T09:28:09.028356522Z"
    }
   },
   "outputs": [
    {
     "data": {
      "text/plain": "  0%|          | 0/2851 [00:00<?, ?it/s]",
      "application/vnd.jupyter.widget-view+json": {
       "version_major": 2,
       "version_minor": 0,
       "model_id": "bd6b4d637dfc4814bdb120d8078f2ba8"
      }
     },
     "metadata": {},
     "output_type": "display_data"
    },
    {
     "data": {
      "text/plain": "  0%|          | 0/1000 [00:00<?, ?it/s]",
      "application/vnd.jupyter.widget-view+json": {
       "version_major": 2,
       "version_minor": 0,
       "model_id": "cce7a2370714428c8abd6c5873e1bf65"
      }
     },
     "metadata": {},
     "output_type": "display_data"
    }
   ],
   "source": [
    "train_lines_processed = process_lines(train_lines)\n",
    "test_lines_processed = process_lines(test_lines)"
   ]
  },
  {
   "cell_type": "code",
   "execution_count": 7,
   "metadata": {
    "ExecuteTime": {
     "end_time": "2023-08-07T09:28:33.323870740Z",
     "start_time": "2023-08-07T09:28:33.318600398Z"
    }
   },
   "outputs": [],
   "source": [
    "train_lines_processed, val_lines_processed, train_labels, val_labels = train_test_split(train_lines_processed, train_classes, test_size=0.2)"
   ]
  },
  {
   "cell_type": "code",
   "execution_count": 8,
   "metadata": {
    "collapsed": false,
    "ExecuteTime": {
     "end_time": "2023-08-07T09:28:33.953467309Z",
     "start_time": "2023-08-07T09:28:33.944668126Z"
    }
   },
   "outputs": [],
   "source": [
    "dataset_dict = {\n",
    "    'train': Dataset.from_dict({'label': train_labels, 'text': train_lines_processed}),\n",
    "    'val': Dataset.from_dict({'label': val_labels, 'text': val_lines_processed}),\n",
    "    'test': Dataset.from_dict({'label': test_classes, 'text': test_lines_processed}),\n",
    "}\n",
    "dataset = DatasetDict(dataset_dict)"
   ]
  },
  {
   "cell_type": "markdown",
   "metadata": {},
   "source": [
    "# Training"
   ]
  },
  {
   "cell_type": "code",
   "execution_count": 9,
   "metadata": {
    "ExecuteTime": {
     "end_time": "2023-08-07T09:28:37.541151298Z",
     "start_time": "2023-08-07T09:28:36.148889153Z"
    }
   },
   "outputs": [
    {
     "name": "stderr",
     "output_type": "stream",
     "text": [
      "Some weights of BertForSequenceClassification were not initialized from the model checkpoint at allegro/herbert-base-cased and are newly initialized: ['classifier.weight', 'classifier.bias']\n",
      "You should probably TRAIN this model on a down-stream task to be able to use it for predictions and inference.\n"
     ]
    }
   ],
   "source": [
    "tokenizer = AutoTokenizer.from_pretrained(\"allegro/herbert-base-cased\")\n",
    "model = AutoModelForSequenceClassification.from_pretrained(\"allegro/herbert-base-cased\", num_labels=2)"
   ]
  },
  {
   "cell_type": "code",
   "execution_count": 10,
   "metadata": {
    "collapsed": false,
    "ExecuteTime": {
     "end_time": "2023-08-07T09:28:38.952007105Z",
     "start_time": "2023-08-07T09:28:38.728081367Z"
    }
   },
   "outputs": [
    {
     "data": {
      "text/plain": "Map:   0%|          | 0/2280 [00:00<?, ? examples/s]",
      "application/vnd.jupyter.widget-view+json": {
       "version_major": 2,
       "version_minor": 0,
       "model_id": "96bd913444df45cc8d2bd5866b588262"
      }
     },
     "metadata": {},
     "output_type": "display_data"
    },
    {
     "data": {
      "text/plain": "Map:   0%|          | 0/571 [00:00<?, ? examples/s]",
      "application/vnd.jupyter.widget-view+json": {
       "version_major": 2,
       "version_minor": 0,
       "model_id": "410a1b4df6a240f680c010258b4ac705"
      }
     },
     "metadata": {},
     "output_type": "display_data"
    },
    {
     "data": {
      "text/plain": "Map:   0%|          | 0/1000 [00:00<?, ? examples/s]",
      "application/vnd.jupyter.widget-view+json": {
       "version_major": 2,
       "version_minor": 0,
       "model_id": "13305271a1ac452cbbca55b5a924763c"
      }
     },
     "metadata": {},
     "output_type": "display_data"
    }
   ],
   "source": [
    "def tokenize_function(line):\n",
    "    return tokenizer.batch_encode_plus(line[\"text\"], padding='longest', max_length=256, truncation=True, return_tensors='pt', add_special_tokens=True)\n",
    "\n",
    "tokenized_dataset = dataset.map(tokenize_function, batched=True)"
   ]
  },
  {
   "cell_type": "code",
   "execution_count": 11,
   "metadata": {
    "collapsed": false,
    "ExecuteTime": {
     "end_time": "2023-08-07T09:28:40.094029671Z",
     "start_time": "2023-08-07T09:28:40.087995365Z"
    }
   },
   "outputs": [],
   "source": [
    "training_args = TrainingArguments(\n",
    "    output_dir=\"./output\",\n",
    "    num_train_epochs=10,\n",
    "    per_device_train_batch_size=32,\n",
    "    logging_dir=\"./logs\",\n",
    "    evaluation_strategy='epoch'\n",
    ")"
   ]
  },
  {
   "cell_type": "code",
   "execution_count": 12,
   "metadata": {
    "ExecuteTime": {
     "end_time": "2023-08-07T09:28:41.154949558Z",
     "start_time": "2023-08-07T09:28:41.152767633Z"
    }
   },
   "outputs": [
    {
     "data": {
      "text/plain": "600"
     },
     "execution_count": 12,
     "metadata": {},
     "output_type": "execute_result"
    }
   ],
   "source": [
    "import gc\n",
    "torch.cuda.empty_cache()\n",
    "gc.collect()"
   ]
  },
  {
   "cell_type": "code",
   "execution_count": 13,
   "outputs": [
    {
     "data": {
      "text/plain": "Repository initialized!\n",
      "text/html": "<pre style=\"white-space:pre;overflow-x:auto;line-height:normal;font-family:Menlo,'DejaVu Sans Mono',consolas,'Courier New',monospace\">Repository initialized!\n</pre>\n"
     },
     "metadata": {},
     "output_type": "display_data"
    }
   ],
   "source": [
    "dagshub.init(\"polish-hatespeech-sentiment-classification\", \"a-s-gorski\", mlflow=True)"
   ],
   "metadata": {
    "collapsed": false,
    "ExecuteTime": {
     "end_time": "2023-08-07T09:28:42.665095983Z",
     "start_time": "2023-08-07T09:28:42.047651753Z"
    }
   }
  },
  {
   "cell_type": "code",
   "execution_count": 14,
   "outputs": [],
   "source": [
    "class LogTrainingLoss(TrainerCallback):\n",
    "    def __init__(self, trainer: Trainer):\n",
    "        self.trainer_ = trainer\n",
    "\n",
    "    def on_epoch_end(self, args, state, control, **kwargs):\n",
    "        epoch = int(state.epoch)\n",
    "        train_loss = self.trainer_.evaluate(eval_dataset=self.trainer_.train_dataset, metric_key_prefix=\"train\")['train_loss']\n",
    "        mlflow.log_metric(\"train_loss\", train_loss, step=epoch)"
   ],
   "metadata": {
    "collapsed": false,
    "ExecuteTime": {
     "end_time": "2023-08-07T09:28:43.967105235Z",
     "start_time": "2023-08-07T09:28:43.926067767Z"
    }
   }
  },
  {
   "cell_type": "code",
   "execution_count": 15,
   "metadata": {
    "collapsed": false,
    "ExecuteTime": {
     "end_time": "2023-08-07T09:32:37.946688743Z",
     "start_time": "2023-08-07T09:28:44.854097490Z"
    }
   },
   "outputs": [
    {
     "name": "stderr",
     "output_type": "stream",
     "text": [
      "2023/08/07 11:28:46 WARNING mlflow.utils.autologging_utils: You are using an unsupported version of transformers. If you encounter errors during autologging, try upgrading / downgrading transformers to a supported version, or try upgrading MLflow.\n",
      "/home/agorski/.cache/pypoetry/virtualenvs/src-aqY2EU_W-py3.10/lib/python3.10/site-packages/transformers/optimization.py:411: FutureWarning: This implementation of AdamW is deprecated and will be removed in a future version. Use the PyTorch implementation torch.optim.AdamW instead, or set `no_deprecation_warning=True` to disable this warning\n",
      "  warnings.warn(\n",
      "You're using a HerbertTokenizerFast tokenizer. Please note that with a fast tokenizer, using the `__call__` method is faster than using a method to encode the text followed by a call to the `pad` method to get a padded encoding.\n"
     ]
    },
    {
     "data": {
      "text/plain": "<IPython.core.display.HTML object>",
      "text/html": "\n    <div>\n      \n      <progress value='2' max='720' style='width:300px; height:20px; vertical-align: middle;'></progress>\n      [  2/720 : < :, Epoch 0.01/10]\n    </div>\n    <table border=\"1\" class=\"dataframe\">\n  <thead>\n <tr style=\"text-align: left;\">\n      <th>Epoch</th>\n      <th>Training Loss</th>\n      <th>Validation Loss</th>\n    </tr>\n  </thead>\n  <tbody>\n  </tbody>\n</table><p>"
     },
     "metadata": {},
     "output_type": "display_data"
    }
   ],
   "source": [
    "with mlflow.start_run() as run:\n",
    "    trainer = Trainer(\n",
    "    model=model,\n",
    "    args=training_args,\n",
    "    train_dataset=tokenized_dataset[\"train\"],\n",
    "    eval_dataset=tokenized_dataset[\"val\"],\n",
    "    tokenizer=tokenizer\n",
    "    )\n",
    "    trainer.add_callback(LogTrainingLoss(trainer))\n",
    "    mlflow.transformers.autolog()\n",
    "    output = trainer.train()"
   ]
  },
  {
   "cell_type": "markdown",
   "metadata": {
    "collapsed": false
   },
   "source": [
    "# Model testing"
   ]
  },
  {
   "cell_type": "code",
   "execution_count": 16,
   "metadata": {
    "collapsed": false,
    "ExecuteTime": {
     "end_time": "2023-08-07T09:34:40.521773660Z",
     "start_time": "2023-08-07T09:34:40.465651330Z"
    }
   },
   "outputs": [],
   "source": [
    "encoded_input = tokenizer(test_lines_processed, padding=True, truncation=True, return_tensors='pt').to(\"cuda\")\n",
    "\n",
    "def run_predictions(model, encoded_input):\n",
    "   with torch.no_grad():\n",
    "      output = model(**encoded_input)\n",
    "   preds = output.logits.argmax(1).detach().tolist()\n",
    "   return preds"
   ]
  },
  {
   "cell_type": "code",
   "execution_count": 17,
   "metadata": {
    "collapsed": false,
    "ExecuteTime": {
     "end_time": "2023-08-07T09:34:47.334366459Z",
     "start_time": "2023-08-07T09:34:45.588907470Z"
    }
   },
   "outputs": [
    {
     "name": "stdout",
     "output_type": "stream",
     "text": [
      "0.871\n"
     ]
    },
    {
     "data": {
      "text/plain": "<Figure size 800x600 with 2 Axes>",
      "image/png": "[encoded data removed]"
     },
     "metadata": {},
     "output_type": "display_data"
    }
   ],
   "source": [
    "import numpy as np\n",
    "import matplotlib.pyplot as plt\n",
    "import seaborn as sns\n",
    "from sklearn.metrics import confusion_matrix, accuracy_score\n",
    "from collections import Counter\n",
    "\n",
    "preds = run_predictions(model, encoded_input)\n",
    "cm = confusion_matrix(test_classes, preds)\n",
    "\n",
    "\n",
    "print(accuracy_score(test_classes, preds))\n",
    "labels = [\"Non hatespeech\", \"Hate Speech\"]\n",
    "\n",
    "plt.figure(figsize=(8, 6))\n",
    "sns.set(font_scale=1.2)  # Adjust font size for better readability\n",
    "sns.heatmap(cm, annot=True, fmt=\"d\", cmap=\"Blues\", xticklabels=labels, yticklabels=labels)\n",
    "plt.xlabel(\"Predicted Labels\")\n",
    "plt.ylabel(\"Actual Labels\")\n",
    "plt.title(\"Confusion Matrix\")\n",
    "plt.show()\n"
   ]
  },
  {
   "cell_type": "code",
   "execution_count": 18,
   "metadata": {
    "ExecuteTime": {
     "end_time": "2023-08-07T09:34:48.942880377Z",
     "start_time": "2023-08-07T09:34:48.927994936Z"
    }
   },
   "outputs": [
    {
     "name": "stdout",
     "output_type": "stream",
     "text": [
      "Accuracy: 0.871\n",
      "Precision: 0.5170068027210885\n",
      "Recall: 0.5671641791044776\n",
      "F1-score: 0.5409252669039145\n"
     ]
    }
   ],
   "source": [
    "from sklearn.metrics import accuracy_score, precision_score, recall_score, f1_score\n",
    "\n",
    "\n",
    "accuracy = accuracy_score(test_classes, preds)\n",
    "precision = precision_score(test_classes, preds)\n",
    "recall = recall_score(test_classes, preds)\n",
    "f1 = f1_score(test_classes, preds)\n",
    "\n",
    "print(\"Accuracy:\", accuracy)\n",
    "print(\"Precision:\", precision)\n",
    "print(\"Recall:\", recall)\n",
    "print(\"F1-score:\", f1)\n",
    "\n"
   ]
  },
  {
   "cell_type": "markdown",
   "metadata": {},
   "source": [
    "### The model achieves the high accuracy of 87.4%. The model also achieves a relativly balanced relation between precision and recall making it suitable for inference on biased datasets."
   ]
  },
  {
   "cell_type": "markdown",
   "metadata": {},
   "source": [
    "# Error analysis"
   ]
  },
  {
   "cell_type": "code",
   "execution_count": 19,
   "metadata": {
    "ExecuteTime": {
     "end_time": "2023-08-07T09:34:52.323157780Z",
     "start_time": "2023-08-07T09:34:52.312873034Z"
    }
   },
   "outputs": [
    {
     "name": "stdout",
     "output_type": "stream",
     "text": [
      "False positives: 71\n",
      "False negatives: 58\n"
     ]
    }
   ],
   "source": [
    "texts, y_predicted, y_true = [], [], []\n",
    "\n",
    "for text, y_pred, y_hat in zip(test_lines, preds, test_classes):\n",
    "    if y_pred == y_hat:\n",
    "        continue\n",
    "    else:\n",
    "        texts.append(text)\n",
    "        y_predicted.append(y_pred)\n",
    "        y_true.append(y_hat)\n",
    "\n",
    "false_positives = [text for text, label in zip(texts, y_predicted) if label == 1]\n",
    "false_negatives = [text for text, label in zip(texts, y_predicted) if label == 0]\n",
    "\n",
    "print(f\"False positives: {len(false_positives)}\")\n",
    "print(f\"False negatives: {len(false_negatives)}\")\n"
   ]
  },
  {
   "cell_type": "markdown",
   "metadata": {},
   "source": [
    "##### After reviewing the missclassified sample the most of the false positives are caused by the use of slang that the model associates with hate-speech even when it is not.\n",
    "##### The most of false negatives are subtle hatespeech that is subtle, the threat is often suggested and not experessed directly."
   ]
  },
  {
   "cell_type": "markdown",
   "metadata": {},
   "source": [
    "# Model pruning\n",
    "- I am using magnitude pruning to speed up the inference for model deployment."
   ]
  },
  {
   "cell_type": "code",
   "execution_count": 20,
   "metadata": {
    "ExecuteTime": {
     "end_time": "2023-08-07T09:34:56.419141115Z",
     "start_time": "2023-08-07T09:34:56.364657232Z"
    }
   },
   "outputs": [],
   "source": [
    "copied_model = copy.deepcopy(model)\n",
    "prune_amount = 0.1\n",
    "for name, module in copied_model.named_modules():\n",
    "    if isinstance(module, torch.nn.Linear) or isinstance(module, torch.nn.MultiheadAttention):\n",
    "        prune.l1_unstructured(module, name='weight', amount=prune_amount)"
   ]
  },
  {
   "cell_type": "code",
   "execution_count": 21,
   "metadata": {
    "ExecuteTime": {
     "end_time": "2023-08-07T09:35:00.309531440Z",
     "start_time": "2023-08-07T09:34:58.597789873Z"
    }
   },
   "outputs": [],
   "source": [
    "preds_pruned = run_predictions(copied_model, encoded_input)"
   ]
  },
  {
   "cell_type": "code",
   "execution_count": 26,
   "metadata": {
    "ExecuteTime": {
     "end_time": "2023-08-07T08:21:49.052216253Z",
     "start_time": "2023-08-07T08:21:47.455307695Z"
    }
   },
   "outputs": [],
   "source": [
    "preds = run_predictions(model, encoded_input)"
   ]
  },
  {
   "cell_type": "code",
   "execution_count": 22,
   "metadata": {
    "ExecuteTime": {
     "end_time": "2023-08-07T09:35:03.527128556Z",
     "start_time": "2023-08-07T09:35:03.518200136Z"
    }
   },
   "outputs": [
    {
     "name": "stdout",
     "output_type": "stream",
     "text": [
      "Accuracy: 0.871\n",
      "Precision: 0.5174825174825175\n",
      "Recall: 0.5522388059701493\n",
      "F1-score: 0.5342960288808665\n"
     ]
    }
   ],
   "source": [
    "accuracy = accuracy_score(test_classes, preds_pruned)\n",
    "precision = precision_score(test_classes, preds_pruned)\n",
    "recall = recall_score(test_classes, preds_pruned)\n",
    "f1 = f1_score(test_classes, preds_pruned)\n",
    "\n",
    "print(\"Accuracy:\", accuracy)\n",
    "print(\"Precision:\", precision)\n",
    "print(\"Recall:\", recall)\n",
    "print(\"F1-score:\", f1)"
   ]
  },
  {
   "cell_type": "code",
   "execution_count": 23,
   "metadata": {
    "ExecuteTime": {
     "end_time": "2023-08-07T09:35:07.298107953Z",
     "start_time": "2023-08-07T09:35:07.293854907Z"
    }
   },
   "outputs": [
    {
     "name": "stdout",
     "output_type": "stream",
     "text": [
      "False positives: 69\n",
      "False negatives: 60\n"
     ]
    }
   ],
   "source": [
    "texts, y_predicted, y_true = [], [], []\n",
    "\n",
    "for text, y_pred, y_hat in zip(test_lines, preds_pruned, test_classes):\n",
    "    if y_pred == y_hat:\n",
    "        continue\n",
    "    else:\n",
    "        texts.append(text)\n",
    "        y_predicted.append(y_pred)\n",
    "        y_true.append(y_hat)\n",
    "\n",
    "false_positives = [text for text, label in zip(texts, y_predicted) if label == 1]\n",
    "false_negatives = [text for text, label in zip(texts, y_predicted) if label == 0]\n",
    "\n",
    "print(f\"False positives: {len(false_positives)}\")\n",
    "print(f\"False negatives: {len(false_negatives)}\")\n"
   ]
  },
  {
   "cell_type": "markdown",
   "metadata": {},
   "source": [
    "# Converting to onnx"
   ]
  },
  {
   "cell_type": "code",
   "execution_count": 24,
   "outputs": [],
   "source": [
    "copied_model = copied_model.to(\"cpu\")\n",
    "model = model.to(\"cpu\")"
   ],
   "metadata": {
    "collapsed": false,
    "ExecuteTime": {
     "end_time": "2023-08-07T09:35:23.206530532Z",
     "start_time": "2023-08-07T09:35:22.792580463Z"
    }
   }
  },
  {
   "cell_type": "code",
   "execution_count": 25,
   "outputs": [],
   "source": [
    "feature = \"sequence-classification\"\n"
   ],
   "metadata": {
    "collapsed": false,
    "ExecuteTime": {
     "end_time": "2023-08-07T09:35:44.864966598Z",
     "start_time": "2023-08-07T09:35:44.799810249Z"
    }
   }
  },
  {
   "cell_type": "code",
   "execution_count": 50,
   "outputs": [],
   "source": [
    "classification_pipeline = pipeline(\"text-classification\", tokenizer=tokenizer, model=model)"
   ],
   "metadata": {
    "collapsed": false,
    "ExecuteTime": {
     "end_time": "2023-08-07T09:48:29.806447153Z",
     "start_time": "2023-08-07T09:48:29.801109287Z"
    }
   }
  },
  {
   "cell_type": "code",
   "execution_count": 51,
   "outputs": [
    {
     "data": {
      "text/plain": "[{'label': 'LABEL_1', 'score': 0.9985277652740479},\n {'label': 'LABEL_0', 'score': 0.9998860359191895}]"
     },
     "execution_count": 51,
     "metadata": {},
     "output_type": "execute_result"
    }
   ],
   "source": [
    "classification_pipeline([\"@anonymized_account @anonymized_account Ale ten gość wchodził jej w cyce i go popchnęła, a liścia ładnie przyjęła, także pisdzielstwo zawsze na dnie\", \"nie podobał mi się mecz\"])"
   ],
   "metadata": {
    "collapsed": false,
    "ExecuteTime": {
     "end_time": "2023-08-07T09:48:30.368647538Z",
     "start_time": "2023-08-07T09:48:30.294638588Z"
    }
   }
  },
  {
   "cell_type": "code",
   "execution_count": 52,
   "outputs": [],
   "source": [
    "model_kind, model_onnx_config = FeaturesManager.check_supported_model_or_raise(model, feature=feature)\n",
    "onnx_config = model_onnx_config(model.config)"
   ],
   "metadata": {
    "collapsed": false,
    "ExecuteTime": {
     "end_time": "2023-08-07T09:48:32.749791119Z",
     "start_time": "2023-08-07T09:48:32.743349177Z"
    }
   }
  },
  {
   "cell_type": "code",
   "execution_count": 58,
   "outputs": [
    {
     "name": "stdout",
     "output_type": "stream",
     "text": [
      "============= Diagnostic Run torch.onnx.export version 2.0.1+cu117 =============\n",
      "verbose: False, log level: Level.ERROR\n",
      "======================= 0 NONE 0 NOTE 0 WARNING 0 ERROR ========================\n"
     ]
    }
   ],
   "source": [
    "onnx_inputs, onnx_outputs = transformers.onnx.export(\n",
    "        model=classification_pipeline.model,\n",
    "        preprocessor=tokenizer,\n",
    "        config=onnx_config,\n",
    "        opset=13,\n",
    "        output=Path(\"../models/model.onnx\")\n",
    ")"
   ],
   "metadata": {
    "collapsed": false,
    "ExecuteTime": {
     "end_time": "2023-08-07T09:51:20.703616216Z",
     "start_time": "2023-08-07T09:51:17.951926298Z"
    }
   }
  }
 ],
 "metadata": {
  "kernelspec": {
   "display_name": "src-aqY2EU_W-py3.10",
   "language": "python",
   "name": "python3"
  },
  "language_info": {
   "codemirror_mode": {
    "name": "ipython",
    "version": 3
   },
   "file_extension": ".py",
   "mimetype": "text/x-python",
   "name": "python",
   "nbconvert_exporter": "python",
   "pygments_lexer": "ipython3",
   "version": "3.10.12"
  },
  "orig_nbformat": 4
 },
 "nbformat": 4,
 "nbformat_minor": 2
}
